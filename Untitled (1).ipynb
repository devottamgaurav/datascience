{
 "cells": [
  {
   "cell_type": "code",
   "execution_count": 2,
   "id": "0d01a471-39d7-47c3-9275-89306a16286f",
   "metadata": {},
   "outputs": [
    {
     "name": "stdout",
     "output_type": "stream",
     "text": [
      "Collecting numpy\n",
      "  Downloading numpy-1.21.6-cp37-cp37m-manylinux_2_12_x86_64.manylinux2010_x86_64.whl (15.7 MB)\n",
      "\u001b[2K     \u001b[90m━━━━━━━━━━━━━━━━━━━━━━━━━━━━━━━━━━━━━━━━\u001b[0m \u001b[32m15.7/15.7 MB\u001b[0m \u001b[31m54.7 MB/s\u001b[0m eta \u001b[36m0:00:00\u001b[0m00:01\u001b[0m00:01\u001b[0m\n",
      "\u001b[?25hInstalling collected packages: numpy\n",
      "Successfully installed numpy-1.21.6\n",
      "Collecting pandas\n",
      "  Downloading pandas-1.3.5-cp37-cp37m-manylinux_2_17_x86_64.manylinux2014_x86_64.whl (11.3 MB)\n",
      "\u001b[2K     \u001b[90m━━━━━━━━━━━━━━━━━━━━━━━━━━━━━━━━━━━━━━━━\u001b[0m \u001b[32m11.3/11.3 MB\u001b[0m \u001b[31m63.4 MB/s\u001b[0m eta \u001b[36m0:00:00\u001b[0m00:01\u001b[0m00:01\u001b[0m\n",
      "\u001b[?25hRequirement already satisfied: numpy>=1.17.3 in /srv/conda/envs/notebook/lib/python3.7/site-packages (from pandas) (1.21.6)\n",
      "Requirement already satisfied: pytz>=2017.3 in /srv/conda/envs/notebook/lib/python3.7/site-packages (from pandas) (2022.1)\n",
      "Requirement already satisfied: python-dateutil>=2.7.3 in /srv/conda/envs/notebook/lib/python3.7/site-packages (from pandas) (2.8.2)\n",
      "Requirement already satisfied: six>=1.5 in /srv/conda/envs/notebook/lib/python3.7/site-packages (from python-dateutil>=2.7.3->pandas) (1.16.0)\n",
      "Installing collected packages: pandas\n",
      "Successfully installed pandas-1.3.5\n",
      "Collecting sklearn\n",
      "  Downloading sklearn-0.0.tar.gz (1.1 kB)\n",
      "  Preparing metadata (setup.py) ... \u001b[?25ldone\n",
      "\u001b[?25hCollecting scikit-learn\n",
      "  Downloading scikit_learn-1.0.2-cp37-cp37m-manylinux_2_17_x86_64.manylinux2014_x86_64.whl (24.8 MB)\n",
      "\u001b[2K     \u001b[90m━━━━━━━━━━━━━━━━━━━━━━━━━━━━━━━━━━━━━━━━\u001b[0m \u001b[32m24.8/24.8 MB\u001b[0m \u001b[31m21.3 MB/s\u001b[0m eta \u001b[36m0:00:00\u001b[0m00:01\u001b[0m00:01\u001b[0m\n",
      "\u001b[?25hRequirement already satisfied: numpy>=1.14.6 in /srv/conda/envs/notebook/lib/python3.7/site-packages (from scikit-learn->sklearn) (1.21.6)\n",
      "Collecting scipy>=1.1.0\n",
      "  Downloading scipy-1.7.3-cp37-cp37m-manylinux_2_12_x86_64.manylinux2010_x86_64.whl (38.1 MB)\n",
      "\u001b[2K     \u001b[90m━━━━━━━━━━━━━━━━━━━━━━━━━━━━━━━━━━━━━━━━\u001b[0m \u001b[32m38.1/38.1 MB\u001b[0m \u001b[31m28.7 MB/s\u001b[0m eta \u001b[36m0:00:00\u001b[0m00:01\u001b[0m00:01\u001b[0m\n",
      "\u001b[?25hCollecting threadpoolctl>=2.0.0\n",
      "  Downloading threadpoolctl-3.1.0-py3-none-any.whl (14 kB)\n",
      "Collecting joblib>=0.11\n",
      "  Downloading joblib-1.1.0-py2.py3-none-any.whl (306 kB)\n",
      "\u001b[2K     \u001b[90m━━━━━━━━━━━━━━━━━━━━━━━━━━━━━━━━━━━━━━\u001b[0m \u001b[32m307.0/307.0 kB\u001b[0m \u001b[31m31.3 MB/s\u001b[0m eta \u001b[36m0:00:00\u001b[0m\n",
      "\u001b[?25hBuilding wheels for collected packages: sklearn\n",
      "  Building wheel for sklearn (setup.py) ... \u001b[?25ldone\n",
      "\u001b[?25h  Created wheel for sklearn: filename=sklearn-0.0-py2.py3-none-any.whl size=1304 sha256=f35e11ee0c9208a3d0469d77fc05f854df230d2100639821ea8583b767cee15b\n",
      "  Stored in directory: /home/jovyan/.cache/pip/wheels/46/ef/c3/157e41f5ee1372d1be90b09f74f82b10e391eaacca8f22d33e\n",
      "Successfully built sklearn\n",
      "Installing collected packages: threadpoolctl, scipy, joblib, scikit-learn, sklearn\n",
      "Successfully installed joblib-1.1.0 scikit-learn-1.0.2 scipy-1.7.3 sklearn-0.0 threadpoolctl-3.1.0\n",
      "Collecting matplotlib\n",
      "  Downloading matplotlib-3.5.3-cp37-cp37m-manylinux_2_5_x86_64.manylinux1_x86_64.whl (11.2 MB)\n",
      "\u001b[2K     \u001b[90m━━━━━━━━━━━━━━━━━━━━━━━━━━━━━━━━━━━━━━━━\u001b[0m \u001b[32m11.2/11.2 MB\u001b[0m \u001b[31m78.7 MB/s\u001b[0m eta \u001b[36m0:00:00\u001b[0m00:01\u001b[0m0:01\u001b[0m\n",
      "\u001b[?25hCollecting pillow>=6.2.0\n",
      "  Downloading Pillow-9.2.0-cp37-cp37m-manylinux_2_17_x86_64.manylinux2014_x86_64.whl (3.1 MB)\n",
      "\u001b[2K     \u001b[90m━━━━━━━━━━━━━━━━━━━━━━━━━━━━━━━━━━━━━━━━\u001b[0m \u001b[32m3.1/3.1 MB\u001b[0m \u001b[31m81.8 MB/s\u001b[0m eta \u001b[36m0:00:00\u001b[0m:00:01\u001b[0m\n",
      "\u001b[?25hCollecting fonttools>=4.22.0\n",
      "  Downloading fonttools-4.37.1-py3-none-any.whl (957 kB)\n",
      "\u001b[2K     \u001b[90m━━━━━━━━━━━━━━━━━━━━━━━━━━━━━━━━━━━━━━\u001b[0m \u001b[32m957.2/957.2 kB\u001b[0m \u001b[31m69.3 MB/s\u001b[0m eta \u001b[36m0:00:00\u001b[0m\n",
      "\u001b[?25hRequirement already satisfied: python-dateutil>=2.7 in /srv/conda/envs/notebook/lib/python3.7/site-packages (from matplotlib) (2.8.2)\n",
      "Collecting cycler>=0.10\n",
      "  Downloading cycler-0.11.0-py3-none-any.whl (6.4 kB)\n",
      "Requirement already satisfied: numpy>=1.17 in /srv/conda/envs/notebook/lib/python3.7/site-packages (from matplotlib) (1.21.6)\n",
      "Requirement already satisfied: pyparsing>=2.2.1 in /srv/conda/envs/notebook/lib/python3.7/site-packages (from matplotlib) (3.0.9)\n",
      "Collecting kiwisolver>=1.0.1\n",
      "  Downloading kiwisolver-1.4.4-cp37-cp37m-manylinux_2_5_x86_64.manylinux1_x86_64.whl (1.1 MB)\n",
      "\u001b[2K     \u001b[90m━━━━━━━━━━━━━━━━━━━━━━━━━━━━━━━━━━━━━━━━\u001b[0m \u001b[32m1.1/1.1 MB\u001b[0m \u001b[31m74.7 MB/s\u001b[0m eta \u001b[36m0:00:00\u001b[0m\n",
      "\u001b[?25hRequirement already satisfied: packaging>=20.0 in /srv/conda/envs/notebook/lib/python3.7/site-packages (from matplotlib) (21.3)\n",
      "Requirement already satisfied: typing-extensions in /srv/conda/envs/notebook/lib/python3.7/site-packages (from kiwisolver>=1.0.1->matplotlib) (4.3.0)\n",
      "Requirement already satisfied: six>=1.5 in /srv/conda/envs/notebook/lib/python3.7/site-packages (from python-dateutil>=2.7->matplotlib) (1.16.0)\n",
      "Installing collected packages: pillow, kiwisolver, fonttools, cycler, matplotlib\n",
      "Successfully installed cycler-0.11.0 fonttools-4.37.1 kiwisolver-1.4.4 matplotlib-3.5.3 pillow-9.2.0\n",
      "Collecting tabulate\n",
      "  Downloading tabulate-0.8.10-py3-none-any.whl (29 kB)\n",
      "Installing collected packages: tabulate\n",
      "Successfully installed tabulate-0.8.10\n"
     ]
    }
   ],
   "source": [
    "!pip install numpy\n",
    "!pip install pandas\n",
    "!pip install sklearn\n",
    "!pip install matplotlib\n",
    "!pip install tabulate"
   ]
  },
  {
   "cell_type": "code",
   "execution_count": 3,
   "id": "9099e80f-130a-46d2-ab7e-e1a6ecf6fdab",
   "metadata": {},
   "outputs": [
    {
     "data": {
      "text/plain": [
       "0"
      ]
     },
     "execution_count": 3,
     "metadata": {},
     "output_type": "execute_result"
    }
   ],
   "source": [
    "import numpy as np\n",
    "import pandas as pd\n",
    "from sklearn.preprocessing import OneHotEncoder as SklearnOneHotEncoder\n",
    "from sklearn.model_selection import train_test_split\n",
    "from sklearn.preprocessing import StandardScaler\n",
    "from sklearn.ensemble import RandomForestClassifier\n",
    "from sklearn.metrics import accuracy_score\n",
    "from sklearn.metrics import classification_report\n",
    "from sklearn.preprocessing import MinMaxScaler\n",
    "import datetime\n",
    "from datetime import date\n",
    "from sklearn.preprocessing import LabelEncoder\n",
    "from sklearn.preprocessing import OneHotEncoder\n",
    "from sklearn.metrics import precision_score, \\\n",
    "    recall_score, confusion_matrix, classification_report, \\\n",
    "    accuracy_score, f1_score\n",
    "from datetime import timedelta, date\n",
    "from sklearn.metrics import mean_squared_error\n",
    "import sklearn\n",
    "from sklearn.preprocessing import LabelEncoder\n",
    "import matplotlib.pyplot as plt\n",
    "from tabulate import tabulate\n",
    "from sklearn.metrics import precision_score, \\\n",
    "    recall_score, confusion_matrix, classification_report, \\\n",
    "    accuracy_score, f1_score\n",
    "from sklearn.ensemble import RandomForestClassifier\n",
    "import zipfile\n",
    "import os\n",
    "import gc\n",
    "gc.collect()"
   ]
  },
  {
   "cell_type": "code",
   "execution_count": 4,
   "id": "ad53b9fa-0932-406a-9916-0b87db2382c5",
   "metadata": {},
   "outputs": [],
   "source": [
    " hpg_reserve = pd.read_csv('hpg_reserve.csv.zip',compression='zip')"
   ]
  },
  {
   "cell_type": "code",
   "execution_count": 5,
   "id": "d929d371-d9ca-4056-81d6-a360f60e11c5",
   "metadata": {},
   "outputs": [],
   "source": [
    "def Assining_Variables():\n",
    "    fle1 = \"air_visit_data.csv\"\n",
    "    fle2 = \"air_reserve.csv\"\n",
    "    fle3 = \"air_store_info.csv\"\n",
    "    fle4 = \"date_info.csv\"\n",
    "    fle5 = \"store_id_relation.csv\"\n",
    "    fle6 = hpg_reserve\n",
    "    fle7 = \"hpg_store_info.csv\"\n",
    "    fnl_flle = \"bk.csv\"\n",
    "    start_dt = date(2022, 4, 23)\n",
    "    end_dt = date(2712,7, 22)\n",
    "    llll= []\n",
    "    return fle1,fle2,fle3,fle4,fle5,fle6,fle7,fnl_flle"
   ]
  },
  {
   "cell_type": "code",
   "execution_count": 6,
   "id": "5199c9f0-e41b-447f-ac57-938e73100816",
   "metadata": {},
   "outputs": [],
   "source": [
    "def load_dataset(fle1,fle2,fle3,fle4,fle5,fle6,fle7):\n",
    "    df_air_visit_data = pd.read_csv(fle1)\n",
    "    df_air_reserve = pd.read_csv(fle2)\n",
    "    df_air_store_info = pd.read_csv(fle3)\n",
    "    df_date_info = pd.read_csv(fle4)\n",
    "    df_store_id_relation = pd.read_csv(fle5)\n",
    "    df_hpg_reserve = fle6\n",
    "    df_hpg_store_info = pd.read_csv(fle7)   \n",
    "    return df_air_visit_data,df_air_reserve,df_air_store_info,df_date_info,df_store_id_relation,df_hpg_reserve,df_hpg_store_info"
   ]
  },
  {
   "cell_type": "code",
   "execution_count": 7,
   "id": "27ba5ef8-61e3-437b-98f4-80b76d962e69",
   "metadata": {},
   "outputs": [],
   "source": [
    " def Counting_NAN_Values(dfff):\n",
    "        df_nan = pd.DataFrame(columns=['Nan count'])\n",
    "        nan_col = list(dfff.columns.tolist())\n",
    "        total_nan = 0\n",
    "        for col in nan_col:\n",
    "            nan_cnt = dfff[col].isnull().sum()\n",
    "            df_nan.loc[col] = nan_cnt\n",
    "            total_nan += nan_cnt\n",
    "        print(tabulate(df_nan, headers = 'keys', tablefmt = 'psql'))\n",
    "        return df_nan['Nan count']"
   ]
  },
  {
   "cell_type": "code",
   "execution_count": 8,
   "id": "5db48820-fcc1-4bf8-b7e4-d7477c7966d0",
   "metadata": {},
   "outputs": [],
   "source": [
    "def Dataset_Cleaning(dff):\n",
    "        dfff = dff.isna().sum().sum()\n",
    "        print(\"Total NAN values are : {0}\".format(dfff))\n",
    "        dff_nan = dff[pd.isnull(dff).any(axis=1)]\n",
    "        print(\"Data with at least 1 NAN values: {0}\".format(len(dff_nan.index)))\n",
    "        df_nan_all = dff[pd.isnull(dff).all(1)]\n",
    "        print(\"Rows filled NAN data: {0}\".format(len(df_nan_all.index)))\n",
    "        df_air_store = dff.air_store_id.isnull().sum()\n",
    "        df_hpg_store = dff.hpg_store_id.isnull().sum()\n",
    "        print(\"Count of NAN values on air_store_id are: {0}\".format(df_air_store))\n",
    "        print(\"Count of NAN values on hpg_store_id are: {0}\".format(df_hpg_store))\n",
    "        nan_ids_df = dff[dff.air_store_id.isnull() & dff.hpg_store_id.isnull()]\n",
    "        len_invalid_id = len(nan_ids_df.index)\n",
    "        print(\"Number of Invalid IDs (both air_store_id & hpg_store_id) are : {0}\".format(len_invalid_id))\n",
    "        df_nadn = Counting_NAN_Values(dff)\n",
    "        \n",
    "        \"\"\"\"dff['calendar_date'] = dff['calendar_date'].replace(np.nan, -1)\n",
    "        dff['day_of_week'] = dff['day_of_week'].replace(np.nan, -1)\n",
    "        dff['holiday_flg'] = dff['holiday_flg'].replace(np.nan, -1)\n",
    "        dff['hpg_store_id'] = dff['hpg_store_id'].replace(np.nan, -1)\n",
    "        #dff.drop(['calendar_date','day_of_week','holiday_flg','hpg_store_id'],axis=1,inplace=True)\n",
    "        le = LabelEncoder()\n",
    "        dff[['genre_name', 'area_name']] = dff[['genre_name', 'area_name']].apply(le.fit_transform)\"\"\"\n",
    "        \n",
    "        #Replacing NAN values of air_store_id,visit_datetime,reserve_datetime,visitors,reserve_visitors, with appropriate constant values\n",
    "        \"\"\"\"dff[['visit_datetime','reserve_datetime']] = dff[['visit_datetime','reserve_datetime']].replace(np.nan,'9999 00:00:00.000')\n",
    "        dff[['visitors','reserve_visitors']] = dff[['visitors','reserve_visitors']].replace(np.nan,0.0)\n",
    "        dff['visit_date'] = dff['visit_date'].replace(np.nan,9999)\n",
    "        dff[['visitors','reserve_visitors']] = dff[['visitors','reserve_visitors']].astype(int)\n",
    "        dff[['air_store_id']] = dff[['air_store_id']].replace(np.nan,'air_ba937bf13d40fc25')\n",
    "        #dff[['visit_datetime','reserve_datetime']] = pd.to_datetime(dff[['visit_datetime','reserve_datetime','visit_date']].astype(str),format='%Y-%m-%d')\n",
    "        df_nadn = Counting_NAN_Values(dff)\"\"\"\n",
    "        #dff.drop(['genre_name','area_name'],axis=1)\n",
    "        #print(dff)\n",
    "        return dfff,df_nadn"
   ]
  },
  {
   "cell_type": "code",
   "execution_count": 9,
   "id": "52afc12c-87d7-42c0-b551-4b1cdd21cd55",
   "metadata": {},
   "outputs": [],
   "source": [
    "def Nan_Percent_Computation(dffff):\n",
    "        nan_values_cnt,df_nafn = Dataset_Cleaning(dffff)\n",
    "        total_values_cnt = dffff.shape[0]*dffff.shape[1]\n",
    "        print(\"Total Values' Counts are : {0}\".format(total_values_cnt))\n",
    "        total_correct_values_cnt = (total_values_cnt - nan_values_cnt)\n",
    "        print(\"Total Correct Values' Counts are : {0}\".format(total_correct_values_cnt))\n",
    "        return total_correct_values_cnt,nan_values_cnt,df_nafn"
   ]
  },
  {
   "cell_type": "code",
   "execution_count": 10,
   "id": "54ebbce2-7bc1-4b99-8cee-d6b4aa535fbd",
   "metadata": {},
   "outputs": [],
   "source": [
    "def Pie_Chart_NAN_Column_Plotting(dft_val1,dfg,total_crt_value_cnt,nan_value_cnt):\n",
    "    dft = pd.DataFrame({'Data': ['Correct Values', 'NAN Values'],\n",
    "                          'ValueCount': [total_crt_value_cnt,nan_value_cnt]})\n",
    "        # Plotting the pie chart for above dataframe\n",
    "    #dft.groupby(['Data']).sum().plot(kind='pie', y='Value Count', autopct='%1.0f%%')\n",
    "    # Data to plot\n",
    "    lab1 = dft.Data.values\n",
    "    sdd = dft.ValueCount.values\n",
    "    #sizes = [215, 130,215, 130,215, 130]\n",
    "    color = ['lightcoral', 'lightskyblue']\n",
    "    explode1 = (0.1, 0)  # explode 1st slice\n",
    "    # Plot\n",
    "    plt.pie(sdd, explode=explode1, labels=lab1, colors=color,autopct='%1.1f%%', shadow=True, startangle=140)\n",
    "    plt.axis('equal')\n",
    "    plt.show()\n",
    "   \n",
    "    # Define the ratio of gap of each fragment in a tuple\n",
    "    #explode = (0.05, 0.05, 0.05,0.05, 0.05, 0.05,0.05, 0.05, 0.05,0.05, 0.05, 0.05,0.05, 0.05)\n",
    "    # DataFrame of each student and the votes they get df_nan_disp['Data Name'],df_nan_disp['NAN Count for each Column']\n",
    "    #dft = pd.DataFrame({'Data Name': dfg.columns,'NAN Count for each Column':dft_val1})\n",
    "    # Plotting the pie chart for above dataframe\n",
    "    # Data to plot\n",
    "    #labels = dfg.columns.values\n",
    "    #sddd = dft_val1.values\n",
    "    #sizes = [215, 130,215, 130,215, 130,215, 130,215, 130,215, 130,215, 130]\n",
    "    #colors = ['gold', 'yellowgreen', 'lightcoral', 'lightskyblue']\n",
    "    #explode = (0.1, 0,0.1, 0,0.1, 0,0.1, 0,0.1, 0,0.1, 0,0.1, 0)  # explode 1st slice\n",
    "    # Plot\n",
    "    #plt.pie(sddd, explode=explode, labels=labels, colors=colors,autopct='%1.1f%%', shadow=True, startangle=140)\n",
    "    #plt.axis('equal')\n",
    "    #plt.show()"
   ]
  },
  {
   "cell_type": "code",
   "execution_count": 11,
   "id": "aa062ddf-9454-451d-8d60-df822b09becb",
   "metadata": {},
   "outputs": [],
   "source": [
    "def Final_Dataset():\n",
    "        fle1,fle2,fle3,fle4,fle5,fle6,fle7,fnl_flle = Assining_Variables()\n",
    "        df_air_visit_data,df_air_reserve,df_air_store_info,df_date_info,df_store_id_relation,df_hpg_reserve,df_hpg_store_info = load_dataset(fle1,fle2,fle3,fle4,fle5,fle6,fle7)\n",
    "        #df_air_visit_data,df_air_reserve,df_air_store_info,df_date_info,df_store_id_relation,df_hpg_reserve,df_hpg_store_info = self.load_dataset()\n",
    "        h1,t1 = os.path.split(fle1)\n",
    "        h2,t2 = os.path.split(fle2)\n",
    "        h3,t3 = os.path.split(fle3)\n",
    "        h4,t4 = os.path.split(fle4)\n",
    "        h5,t5 = os.path.split(fle5)\n",
    "        #h6,t6 = os.path.split(fle6)\n",
    "        h7,t7 = os.path.split(fle7)\n",
    "        print(\"The shape of {0} is {1}\".format(t1,df_air_visit_data.shape),end=\"\\n\")\n",
    "        print(\"The shape of {0} is {1}\".format(t2,df_air_reserve.shape),end=\"\\n\")\n",
    "        print(\"The shape of {0} is {1}\".format(t3,df_air_store_info.shape),end=\"\\n\")\n",
    "        print(\"The shape of {0} is {1}\".format(t4,df_date_info.shape),end=\"\\n\")\n",
    "        print(\"The shape of {0} is {1}\".format(t5,df_store_id_relation.shape),end=\"\\n\")\n",
    "        print(\"The shape of hpg_rserve file is {0}\".format(df_hpg_reserve.shape),end=\"\\n\")\n",
    "        print(\"The shape of {0} is {1}\".format(t7,df_hpg_store_info.shape),end=\"\\n\")\n",
    "        \n",
    "        df_n = pd.concat([df_air_visit_data[['air_store_id','visit_date','visitors']],df_air_reserve], axis=0, join=\"outer\")\n",
    "        df_nn = pd.merge(df_n,df_air_store_info,on='air_store_id',how=\"left\")\n",
    "        df_nn = df_nn.rename(columns = {'air_genre_name':'genre_name','air_area_name':'area_name'})\n",
    "        hpg_n = pd.merge(df_hpg_store_info,df_hpg_reserve,on='hpg_store_id',how=\"left\")\n",
    "        #hpg_n = pd.concat([df_hpg_store_info,df_hpg_reserve,], axis=0, join=\"outer\")\n",
    "        hpg_n = hpg_n.rename(columns = {'hpg_genre_name':'genre_name','hpg_area_name':'area_name'})\n",
    "        hpg_nn = pd.merge(hpg_n,df_store_id_relation,on='hpg_store_id',how=\"left\")\n",
    "        hpg_date = pd.concat([hpg_nn,df_date_info,], axis=0, join=\"outer\")\n",
    "        df = pd.concat([df_nn,hpg_date], axis=0, join=\"outer\")\n",
    "        #hpg_date = [hpg_nn,df_date_info]\n",
    "        #df_date = pd.concat(hpg_date,axis=1)\n",
    "        #df_nnnn = [df_nn,df_date]\n",
    "        #df = pd.concat(df_nnnn,axis=0)\n",
    "        print(df)\n",
    "        \n",
    " \n",
    "        #Merging\n",
    "        \"\"\"df_n = pd.merge(df_air_visit_data[['air_store_id','visit_date','visitors']],df_air_reserve,how=\"outer\")      \n",
    "        df_nn = pd.merge(df_n,df_air_store_info,on='air_store_id',how=\"left\")\n",
    "        df_nn = df_nn.rename(columns = {'air_genre_name':'genre_name','air_area_name':'area_name'})\n",
    "        hpg_n = pd.merge(df_hpg_store_info,df_hpg_reserve,on='hpg_store_id',how=\"left\")\n",
    "        hpg_n = hpg_n.rename(columns = {'hpg_genre_name':'genre_name','hpg_area_name':'area_name'})\n",
    "        hpg_nn = pd.merge(hpg_n,df_store_id_relation,on='hpg_store_id',how=\"left\")\n",
    "        hpg_date = [hpg_nn,df_date_info]\n",
    "        df_date = pd.concat(hpg_date,axis=1)\n",
    "        df_nnnn = [df_nn,df_date]\n",
    "        df = pd.concat(df_nnnn,axis=0)\n",
    "        print(df)\"\"\"\n",
    "        \n",
    "        total_crt_value_cnt,nan_value_cnt,df_najn = Nan_Percent_Computation(df)\n",
    "        #Pie_Chart_Plotting(total_crt_value_cnt,nan_value_cnt)\n",
    "        df_nan_disp = pd.DataFrame()\n",
    "        Pie_Chart_NAN_Column_Plotting(df_najn,df,total_crt_value_cnt,nan_value_cnt)\n",
    "        \n",
    "        #Printing the number of NANs in each column\n",
    "        n_rows = len(df)\n",
    "        for i in range(0,len(df_najn)):\n",
    "            nan_percent_in_each_col = ((df_najn/n_rows)*100)\n",
    "            df_nan_disp = pd.DataFrame({'% of NAN Count':nan_percent_in_each_col})\n",
    "        print(tabulate(df_nan_disp, headers = 'keys', tablefmt = 'psql'))\n",
    "            \n",
    "        df.drop(['calendar_date','day_of_week','holiday_flg'],axis=1,inplace=True)\n",
    "        df[['visit_date','visitors','visit_datetime','reserve_datetime','reserve_visitors','hpg_store_id']] = df[['visit_date','visitors','visit_datetime','reserve_datetime','reserve_visitors','hpg_store_id']].replace(np.nan,9999)\n",
    "        #df[['latitude','longitude','visit_datetime','reserve_datetime','reserve_visitors','hpg_store_id','hpg_area_name','hpg_genre_name']] = df[['latitude','longitude','visit_datetime','reserve_datetime','reserve_visitors','hpg_store_id','hpg_area_name','hpg_genre_name']].replace(np.nan,9999)\n",
    "        df[['area_name','latitude','longitude','genre_name']] = df[['area_name','latitude','longitude','genre_name']].replace(np.nan,9999)\n",
    "        df.drop(df.index[df['latitude'] == 9999], inplace=True)\n",
    "        df.drop(df.index[df['longitude'] == 9999], inplace=True)\n",
    "        #df.drop(df.index[df['visit_datetime'] == 9999], inplace=True)\n",
    "        #df.drop(df.index[df['reserve_datetime'] == 9999], inplace=True)\n",
    "        #df.drop(df.index[df['reserve_visitors'] == 9999], inplace=True)\n",
    "        #df.drop(df.index[df['hpg_store_id'] == 9999], inplace=True)\n",
    "        df['air_store_id'] = df['air_store_id'].replace(np.nan,9999)\n",
    "        df.drop(df.index[df['air_store_id'] == 9999], inplace=True)\n",
    "        df.drop(df.index[df['area_name'] == 9999], inplace=True)\n",
    "        df.drop(df.index[df['genre_name'] == 9999], inplace=True)\n",
    "        #df[['visitors']] = df[['visitors']].astype(int)\n",
    "        #df.reset_index()\"\"\"\n",
    "        #print(df)\n",
    "        df_nadjn = Counting_NAN_Values(df)\n",
    "        print(df)\n",
    "        #print(df[['air_store_id','visit_date','visitors']])\n",
    "        return df,fnl_flle\n",
    "\n",
    "        #df = df[df['air_store_id'] != 9999]\n",
    "        #df.drop(['air_store_id'],axis=0,inplace=True)\n",
    "        \n",
    "        #dff = self.Merge_dataframe(dff)\n",
    "        \n",
    "        #print(len(dff[['air_store_id','visit_date','visitors']]))"
   ]
  },
  {
   "cell_type": "code",
   "execution_count": 12,
   "id": "c8dfbecc-43a3-437e-b0c0-a6e2cfcd3948",
   "metadata": {},
   "outputs": [],
   "source": [
    "def Merge_dataframe(df):    \n",
    "    df = df.assign(air_store_id_train = df[['air_store_id','visit_date']].apply(lambda row: '_'.join([str(each) for each in row]),axis=1))\n",
    "    xt = pd.factorize(df['air_store_id_train'])[0]\n",
    "    X_train = pd.DataFrame(xt)\n",
    "    #X_train = X_train.head(252108)\n",
    "    y_train = df['visitors'].astype(int)\n",
    "    #y_train = y_train.head(252108)\n",
    "    for dt in daterange():\n",
    "        lll.append(dt.strftime(\"%Y-%m-%d\"))\n",
    "    df['New_visit_date'] = pd.DataFrame({'New_visit_date':lll})\n",
    "    #df['New_visit_date'] = lll\n",
    "    df = df.assign(air_store_id_test = df[['air_store_id','New_visit_date']].apply(lambda row: '_'.join([str(each) for each in row]),axis=1))\n",
    "    xtt= pd.factorize(df['air_store_id_test'])[0]\n",
    "    X_test = pd.DataFrame(xtt)\n",
    "    #le = LabelEncoder()\n",
    "    #X_test = X_test.apply(le.fit_transform)\n",
    "    #X_test = X_test.head(252108)\n",
    "    return X_train,y_train,X_test"
   ]
  },
  {
   "cell_type": "code",
   "execution_count": 13,
   "id": "85d74ea5-1981-44ee-9a94-cbc0cda83906",
   "metadata": {},
   "outputs": [],
   "source": [
    "dt1 = date(2022, 4, 23)\n",
    "dt2 = date(2712,7, 22)\n",
    "lll = []\n",
    "def daterange():\n",
    "    for n in range(int ((dt2 - dt1).days)+1):\n",
    "        yield dt1 + timedelta(n)"
   ]
  },
  {
   "cell_type": "code",
   "execution_count": 14,
   "id": "a13521bb-000b-4c1d-a05d-04f7d9f00771",
   "metadata": {},
   "outputs": [
    {
     "name": "stdout",
     "output_type": "stream",
     "text": [
      "The shape of air_visit_data.csv is (252108, 3)\n",
      "The shape of air_reserve.csv is (92378, 4)\n",
      "The shape of air_store_info.csv is (829, 5)\n",
      "The shape of date_info.csv is (517, 3)\n",
      "The shape of store_id_relation.csv is (150, 2)\n",
      "The shape of hpg_rserve file is (2000320, 4)\n",
      "The shape of hpg_store_info.csv is (4690, 5)\n",
      "             air_store_id  visit_date  visitors visit_datetime  \\\n",
      "0    air_ba937bf13d40fb24  13-01-2016      25.0            NaN   \n",
      "1    air_ba937bf13d40fb24  14-01-2016      32.0            NaN   \n",
      "2    air_ba937bf13d40fb24  15-01-2016      29.0            NaN   \n",
      "3    air_ba937bf13d40fb24  16-01-2016      22.0            NaN   \n",
      "4    air_ba937bf13d40fb24  18-01-2016       6.0            NaN   \n",
      "..                    ...         ...       ...            ...   \n",
      "512                   NaN         NaN       NaN            NaN   \n",
      "513                   NaN         NaN       NaN            NaN   \n",
      "514                   NaN         NaN       NaN            NaN   \n",
      "515                   NaN         NaN       NaN            NaN   \n",
      "516                   NaN         NaN       NaN            NaN   \n",
      "\n",
      "    reserve_datetime  reserve_visitors  genre_name  \\\n",
      "0                NaN               NaN  Dining bar   \n",
      "1                NaN               NaN  Dining bar   \n",
      "2                NaN               NaN  Dining bar   \n",
      "3                NaN               NaN  Dining bar   \n",
      "4                NaN               NaN  Dining bar   \n",
      "..               ...               ...         ...   \n",
      "512              NaN               NaN         NaN   \n",
      "513              NaN               NaN         NaN   \n",
      "514              NaN               NaN         NaN   \n",
      "515              NaN               NaN         NaN   \n",
      "516              NaN               NaN         NaN   \n",
      "\n",
      "                        area_name   latitude   longitude hpg_store_id  \\\n",
      "0    Tōkyō-to Minato-ku Shibakōen  35.658068  139.751599          NaN   \n",
      "1    Tōkyō-to Minato-ku Shibakōen  35.658068  139.751599          NaN   \n",
      "2    Tōkyō-to Minato-ku Shibakōen  35.658068  139.751599          NaN   \n",
      "3    Tōkyō-to Minato-ku Shibakōen  35.658068  139.751599          NaN   \n",
      "4    Tōkyō-to Minato-ku Shibakōen  35.658068  139.751599          NaN   \n",
      "..                            ...        ...         ...          ...   \n",
      "512                           NaN        NaN         NaN          NaN   \n",
      "513                           NaN        NaN         NaN          NaN   \n",
      "514                           NaN        NaN         NaN          NaN   \n",
      "515                           NaN        NaN         NaN          NaN   \n",
      "516                           NaN        NaN         NaN          NaN   \n",
      "\n",
      "    calendar_date day_of_week  holiday_flg  \n",
      "0             NaN         NaN          NaN  \n",
      "1             NaN         NaN          NaN  \n",
      "2             NaN         NaN          NaN  \n",
      "3             NaN         NaN          NaN  \n",
      "4             NaN         NaN          NaN  \n",
      "..            ...         ...          ...  \n",
      "512    27-05-2017    Saturday          0.0  \n",
      "513    28-05-2017      Sunday          0.0  \n",
      "514    29-05-2017      Monday          0.0  \n",
      "515    30-05-2017     Tuesday          0.0  \n",
      "516    31-05-2017   Wednesday          0.0  \n",
      "\n",
      "[1216311 rows x 14 columns]\n",
      "Total NAN values are : 7539031\n",
      "Data with at least 1 NAN values: 1216311\n",
      "Rows filled NAN data: 0\n",
      "Count of NAN values on air_store_id are: 858297\n",
      "Count of NAN values on hpg_store_id are: 345003\n",
      "Number of Invalid IDs (both air_store_id & hpg_store_id) are : 517\n",
      "+------------------+-------------+\n",
      "|                  |   Nan count |\n",
      "|------------------+-------------|\n",
      "| air_store_id     |      858297 |\n",
      "| visit_date       |      964203 |\n",
      "| visitors         |      964203 |\n",
      "| visit_datetime   |      252625 |\n",
      "| reserve_datetime |      252625 |\n",
      "| reserve_visitors |      252625 |\n",
      "| genre_name       |         517 |\n",
      "| area_name        |         517 |\n",
      "| latitude         |         517 |\n",
      "| longitude        |         517 |\n",
      "| hpg_store_id     |      345003 |\n",
      "| calendar_date    |     1215794 |\n",
      "| day_of_week      |     1215794 |\n",
      "| holiday_flg      |     1215794 |\n",
      "+------------------+-------------+\n",
      "Total Values' Counts are : 17028354\n",
      "Total Correct Values' Counts are : 9489323\n"
     ]
    },
    {
     "data": {
      "image/png": "[encoded data removed]",
      "text/plain": [
       "<Figure size 432x288 with 1 Axes>"
      ]
     },
     "metadata": {},
     "output_type": "display_data"
    },
    {
     "name": "stdout",
     "output_type": "stream",
     "text": [
      "+------------------+------------------+\n",
      "|                  |   % of NAN Count |\n",
      "|------------------+------------------|\n",
      "| air_store_id     |       70.5656    |\n",
      "| visit_date       |       79.2727    |\n",
      "| visitors         |       79.2727    |\n",
      "| visit_datetime   |       20.7698    |\n",
      "| reserve_datetime |       20.7698    |\n",
      "| reserve_visitors |       20.7698    |\n",
      "| genre_name       |        0.0425056 |\n",
      "| area_name        |        0.0425056 |\n",
      "| latitude         |        0.0425056 |\n",
      "| longitude        |        0.0425056 |\n",
      "| hpg_store_id     |       28.3647    |\n",
      "| calendar_date    |       99.9575    |\n",
      "| day_of_week      |       99.9575    |\n",
      "| holiday_flg      |       99.9575    |\n",
      "+------------------+------------------+\n",
      "+------------------+-------------+\n",
      "|                  |   Nan count |\n",
      "|------------------+-------------|\n",
      "| air_store_id     |           0 |\n",
      "| visit_date       |           0 |\n",
      "| visitors         |           0 |\n",
      "| visit_datetime   |           0 |\n",
      "| reserve_datetime |           0 |\n",
      "| reserve_visitors |           0 |\n",
      "| genre_name       |           0 |\n",
      "| area_name        |           0 |\n",
      "| latitude         |           0 |\n",
      "| longitude        |           0 |\n",
      "| hpg_store_id     |           0 |\n",
      "+------------------+-------------+\n",
      "                air_store_id  visit_date  visitors       visit_datetime  \\\n",
      "15077   air_f690c42545146e0a  27-01-2016      12.0                 9999   \n",
      "15078   air_f690c42545146e0a  28-01-2016       8.0                 9999   \n",
      "15079   air_f690c42545146e0a  29-01-2016      19.0                 9999   \n",
      "15080   air_f690c42545146e0a  30-01-2016      12.0                 9999   \n",
      "15081   air_f690c42545146e0a  03-02-2016       3.0                 9999   \n",
      "...                      ...         ...       ...                  ...   \n",
      "870368  air_fc477473134e9ae5        9999    9999.0  2017-04-10 20:00:00   \n",
      "870369  air_fc477473134e9ae5        9999    9999.0  2017-04-14 21:00:00   \n",
      "870370  air_fc477473134e9ae5        9999    9999.0  2017-04-15 20:00:00   \n",
      "870371  air_fc477473134e9ae5        9999    9999.0  2017-04-16 21:00:00   \n",
      "870372  air_fc477473134e9ae5        9999    9999.0  2017-04-23 21:00:00   \n",
      "\n",
      "           reserve_datetime  reserve_visitors     genre_name  \\\n",
      "15077                  9999            9999.0  Japanese food   \n",
      "15078                  9999            9999.0  Japanese food   \n",
      "15079                  9999            9999.0  Japanese food   \n",
      "15080                  9999            9999.0  Japanese food   \n",
      "15081                  9999            9999.0  Japanese food   \n",
      "...                     ...               ...            ...   \n",
      "870368  2017-04-10 19:00:00               2.0  Amusement bar   \n",
      "870369  2017-04-06 21:00:00              15.0  Amusement bar   \n",
      "870370  2017-04-13 15:00:00               3.0  Amusement bar   \n",
      "870371  2017-04-14 21:00:00               2.0  Amusement bar   \n",
      "870372  2017-04-12 16:00:00               2.0  Amusement bar   \n",
      "\n",
      "                                    area_name   latitude   longitude  \\\n",
      "15077   Hokkaidō Sapporo-shi Minami 3 Jōnishi  43.056819  141.353957   \n",
      "15078   Hokkaidō Sapporo-shi Minami 3 Jōnishi  43.056819  141.353957   \n",
      "15079   Hokkaidō Sapporo-shi Minami 3 Jōnishi  43.056819  141.353957   \n",
      "15080   Hokkaidō Sapporo-shi Minami 3 Jōnishi  43.056819  141.353957   \n",
      "15081   Hokkaidō Sapporo-shi Minami 3 Jōnishi  43.056819  141.353957   \n",
      "...                                       ...        ...         ...   \n",
      "870368  Hokkaidō Sapporo-shi Minami 4 Jōnishi  43.055047  141.353236   \n",
      "870369  Hokkaidō Sapporo-shi Minami 4 Jōnishi  43.055047  141.353236   \n",
      "870370  Hokkaidō Sapporo-shi Minami 4 Jōnishi  43.055047  141.353236   \n",
      "870371  Hokkaidō Sapporo-shi Minami 4 Jōnishi  43.055047  141.353236   \n",
      "870372  Hokkaidō Sapporo-shi Minami 4 Jōnishi  43.055047  141.353236   \n",
      "\n",
      "                hpg_store_id  \n",
      "15077                   9999  \n",
      "15078                   9999  \n",
      "15079                   9999  \n",
      "15080                   9999  \n",
      "15081                   9999  \n",
      "...                      ...  \n",
      "870368  hpg_3c41f028563beac3  \n",
      "870369  hpg_3c41f028563beac3  \n",
      "870370  hpg_3c41f028563beac3  \n",
      "870371  hpg_3c41f028563beac3  \n",
      "870372  hpg_3c41f028563beac3  \n",
      "\n",
      "[18942 rows x 11 columns]\n"
     ]
    }
   ],
   "source": [
    "df,fnl_flle = Final_Dataset()"
   ]
  },
  {
   "cell_type": "code",
   "execution_count": 15,
   "id": "175301fc-d019-4634-b7d6-93baaa29450a",
   "metadata": {},
   "outputs": [],
   "source": [
    "X_train,y_train,X_test = Merge_dataframe(df)"
   ]
  },
  {
   "cell_type": "code",
   "execution_count": 16,
   "id": "4f3fa95d-cf33-402f-b25c-d4daa8edc00c",
   "metadata": {},
   "outputs": [],
   "source": [
    "def Classification_Model():\n",
    "    clf = RandomForestClassifier(n_estimators=40,criterion=\"entropy\", max_depth=10)\n",
    "    clf.fit(X_train,y_train)\n",
    "    y_pred = clf.predict(X_test)\n",
    "    print(\"Predicted values:\")\n",
    "    print(y_pred)\n",
    "    #dd = df_train['visitors'].head(32019)\n",
    "    print ('Accuracy:', accuracy_score(y_train, y_pred)*100)\n",
    "    print ('F1 score:', f1_score(y_train, y_pred, average=\"weighted\"))\n",
    "    print ('Recall:', recall_score(y_train, y_pred, average=\"weighted\"))\n",
    "    print ('Precision:', precision_score(y_train, y_pred, average=\"weighted\"))\n",
    "    return y_pred,clf"
   ]
  },
  {
   "cell_type": "code",
   "execution_count": 17,
   "id": "abb32708-6a14-4dca-a50c-0bf88b5d361c",
   "metadata": {},
   "outputs": [
    {
     "name": "stdout",
     "output_type": "stream",
     "text": [
      "Predicted values:\n",
      "[  12    8   19 ... 9999 9999 9999]\n",
      "Accuracy: 92.04413472706156\n",
      "F1 score: 0.9205718115772791\n",
      "Recall: 0.9204413472706156\n",
      "Precision: 0.9257221355683168\n"
     ]
    },
    {
     "name": "stderr",
     "output_type": "stream",
     "text": [
      "/srv/conda/envs/notebook/lib/python3.7/site-packages/sklearn/metrics/_classification.py:1318: UndefinedMetricWarning: Precision is ill-defined and being set to 0.0 in labels with no predicted samples. Use `zero_division` parameter to control this behavior.\n",
      "  _warn_prf(average, modifier, msg_start, len(result))\n"
     ]
    }
   ],
   "source": [
    "y_pred,clf = Classification_Model()"
   ]
  },
  {
   "cell_type": "code",
   "execution_count": 18,
   "id": "e7348456-9c4f-48b5-aa7a-8bcc68a878c1",
   "metadata": {},
   "outputs": [],
   "source": [
    "def calc_train_error(X_train, y_train, model):\n",
    "    '''returns in-sample error for already fit model.'''\n",
    "    predictions = model.predict(X_train)\n",
    "    mse = mean_squared_error(y_train, predictions)\n",
    "    rmse = np.sqrt(mse)\n",
    "    return mse"
   ]
  },
  {
   "cell_type": "code",
   "execution_count": 19,
   "id": "67f322ee-3e33-4954-9a53-0a08570c3a39",
   "metadata": {},
   "outputs": [],
   "source": [
    "def calc_validation_error(X_test, y_test, model):\n",
    "    '''returns out-of-sample error for already fit model.'''\n",
    "    predictions = model.predict(X_test)\n",
    "    mse = mean_squared_error(y_test, predictions)\n",
    "    rmse = np.sqrt(mse)\n",
    "    return mse"
   ]
  },
  {
   "cell_type": "code",
   "execution_count": 20,
   "id": "b38916e5-2a02-419a-83d6-956ff6b971da",
   "metadata": {},
   "outputs": [],
   "source": [
    "def calc_metrics(X_train, y_train, X_test, y_test, model):\n",
    "    '''fits model and returns the RMSE for in-sample error and out-of-sample error'''\n",
    "    model.fit(X_train, y_train)\n",
    "    train_error = calc_train_error(X_train, y_train, model)\n",
    "    validation_error = calc_validation_error(X_test, y_test, model)\n",
    "    return train_error, validation_error"
   ]
  },
  {
   "cell_type": "code",
   "execution_count": 21,
   "id": "b8f4fd80-299b-4120-9758-9600ae4e1323",
   "metadata": {},
   "outputs": [
    {
     "name": "stdout",
     "output_type": "stream",
     "text": [
      "Training Error: 22.996198923028192\n",
      "Test Error: 5278.869971491923\n",
      "Variance: 14150114.917294748\n",
      "Bias: -1059.290283979848\n"
     ]
    }
   ],
   "source": [
    "train_error, test_error = calc_metrics(X_train, y_train, X_test, y_pred, clf)\n",
    "#variance\n",
    "var = np.var(y_pred)\n",
    "SSE = np.mean((np.mean(y_pred) - y_train)** 2) # Where Y is your dependent variable. # SSE : Sum of squared errors.\n",
    "\n",
    "Bias = SSE - var\n",
    "print(\"Training Error:\",train_error)\n",
    "print(\"Test Error:\",test_error)\n",
    "print(\"Variance:\",var)\n",
    "print(\"Bias:\",Bias)"
   ]
  },
  {
   "cell_type": "code",
   "execution_count": 22,
   "id": "ec4c0a63-af74-40f2-83cd-90870c5a0ca8",
   "metadata": {},
   "outputs": [],
   "source": [
    "from sklearn.metrics import roc_curve, roc_auc_score\n",
    "from sklearn.model_selection import validation_curve\n",
    "\n",
    "x_score = clf.predict_proba(X_test)[:,1]\n",
    "#fpr, tpr, threshold = roc_curve\n",
    "(y_train, x_score)\n",
    "y_train = y_train.astype(float)\n",
    "xtth = pd.DataFrame(x_score)\n",
    "n_est = [1,5,10,15,20]"
   ]
  },
  {
   "cell_type": "code",
   "execution_count": 23,
   "id": "2b3d8bc8-a751-46d0-be7e-73566d35525c",
   "metadata": {},
   "outputs": [
    {
     "name": "stderr",
     "output_type": "stream",
     "text": [
      "/srv/conda/envs/notebook/lib/python3.7/site-packages/sklearn/model_selection/_split.py:680: UserWarning: The least populated class in y has only 1 members, which is less than n_splits=5.\n",
      "  UserWarning,\n"
     ]
    }
   ],
   "source": [
    "#y_train\n",
    "fpr, tpr, threshold = roc_curve(X_test, x_score,pos_label=1)\n",
    "train_score, test_score = validation_curve(\n",
    "    clf,\n",
    "    X_train,\n",
    "    y_train,\n",
    "    param_name=\"max_depth\",\n",
    "    param_range=n_est, cv=5,\n",
    "    scoring=\"accuracy\",\n",
    "    n_jobs=2,\n",
    ")"
   ]
  },
  {
   "cell_type": "code",
   "execution_count": 24,
   "id": "c1994332-ce28-4668-ad57-5edc7fbc5dd2",
   "metadata": {},
   "outputs": [],
   "source": [
    "# Calculating mean and standard deviation of training score\n",
    "mean_train_score = np.mean(train_score, axis = 1)\n",
    "std_train_score = np.std(train_score, axis = 1)\n",
    " \n",
    "# Calculating mean and standard deviation of testing score\n",
    "mean_test_score = np.mean(test_score, axis = 1)\n",
    "std_test_score = np.std(test_score, axis = 1)"
   ]
  },
  {
   "cell_type": "code",
   "execution_count": 25,
   "id": "e1ea6bfb-a9a9-4374-919b-77c1d406fc4d",
   "metadata": {},
   "outputs": [
    {
     "data": {
      "image/png": "[encoded data removed]",
      "text/plain": [
       "<Figure size 432x288 with 1 Axes>"
      ]
     },
     "metadata": {
      "needs_background": "light"
     },
     "output_type": "display_data"
    }
   ],
   "source": [
    "# Plot mean accuracy scores for training and testing scores\n",
    "plt.plot(n_est, mean_train_score,\n",
    "     label = \"Training Score\", color = 'b')\n",
    "plt.plot(n_est, mean_test_score,\n",
    "   label = \"Cross Validation Score\", color = 'g')\n",
    " \n",
    "# Creating the plot\n",
    "plt.title(\"Validation Curve with RF Classifier\")\n",
    "plt.xlabel(\"Max Depth\")\n",
    "plt.xticks([1,2,3,4,5,6,7,8,9,10,11,12,13,14,15,16,17,18,19,20])\n",
    "plt.ylabel(\"Accuracy\")\n",
    "plt.tight_layout()\n",
    "plt.legend(loc = 'best')\n",
    "plt.grid()\n",
    "plt.show()"
   ]
  },
  {
   "cell_type": "code",
   "execution_count": 26,
   "id": "0f3e30b7-f220-481e-a667-11107672e20d",
   "metadata": {},
   "outputs": [
    {
     "data": {
      "image/png": "[encoded data removed]",
      "text/plain": [
       "<Figure size 540x540 with 1 Axes>"
      ]
     },
     "metadata": {
      "needs_background": "light"
     },
     "output_type": "display_data"
    }
   ],
   "source": [
    "import sklearn.metrics as metrics\n",
    "from sklearn.metrics import roc_curve, auc\n",
    "\n",
    "# calculate the fpr and tpr for all thresholds of the classification\n",
    "probs = clf.predict_proba(X_test)\n",
    "preds = probs[:,1]\n",
    "fpr, tpr, threshold = metrics.roc_curve(X_test, preds,pos_label=1)\n",
    "roc_auc = metrics.auc(fpr, tpr)\n",
    "# method I: plt\n",
    "import matplotlib.pyplot as plt\n",
    "fig, ax = plt.subplots(figsize=(7.5, 7.5))\n",
    "plt.title('Receiver Operating Characteristic')\n",
    "plt.plot(fpr, tpr, 'b', label='ROC Curve (AUC = %0.2f)' % (roc_auc))\n",
    "plt.plot([0, 1], [0, 1],linestyle='--', color='red',label='Random Classifier')\n",
    "plt.plot([0, 0, 1], [0, 1, 1], linestyle=':', color='green', label='Perfect Classifier')\n",
    "#plt.xlim([1,20])\n",
    "#plt.ylim([1, 20])\n",
    "plt.ylabel('True Positive Rate')\n",
    "plt.xlabel('False Positive Rate')\n",
    "plt.legend(loc = 'lower right')\n",
    "plt.show()"
   ]
  },
  {
   "cell_type": "code",
   "execution_count": 27,
   "id": "2afdff86-f7f1-4c77-bee3-8921c40cffaf",
   "metadata": {},
   "outputs": [],
   "source": [
    "from sklearn.linear_model import LogisticRegression"
   ]
  },
  {
   "cell_type": "code",
   "execution_count": 28,
   "id": "4e48cf27-e659-4078-881f-1952ec98d8c5",
   "metadata": {},
   "outputs": [],
   "source": [
    "model = LogisticRegression(penalty='l2',max_iter=100)"
   ]
  },
  {
   "cell_type": "code",
   "execution_count": 30,
   "id": "58fda7f5-8893-4ae1-9247-3e86a8b985a4",
   "metadata": {},
   "outputs": [
    {
     "name": "stdout",
     "output_type": "stream",
     "text": [
      "Predicted values:\n",
      "[5.000e+00 9.999e+03 9.999e+03 ... 9.999e+03 9.999e+03 9.999e+03]\n",
      "Accuracy: 82.84236089114138\n",
      "F1 score: 0.7507073179359516\n",
      "Recall: 0.8284236089114138\n",
      "Precision: 0.6863219086129511\n"
     ]
    },
    {
     "name": "stderr",
     "output_type": "stream",
     "text": [
      "/srv/conda/envs/notebook/lib/python3.7/site-packages/sklearn/linear_model/_logistic.py:818: ConvergenceWarning: lbfgs failed to converge (status=1):\n",
      "STOP: TOTAL NO. of ITERATIONS REACHED LIMIT.\n",
      "\n",
      "Increase the number of iterations (max_iter) or scale the data as shown in:\n",
      "    https://scikit-learn.org/stable/modules/preprocessing.html\n",
      "Please also refer to the documentation for alternative solver options:\n",
      "    https://scikit-learn.org/stable/modules/linear_model.html#logistic-regression\n",
      "  extra_warning_msg=_LOGISTIC_SOLVER_CONVERGENCE_MSG,\n",
      "/srv/conda/envs/notebook/lib/python3.7/site-packages/sklearn/metrics/_classification.py:1318: UndefinedMetricWarning: Precision is ill-defined and being set to 0.0 in labels with no predicted samples. Use `zero_division` parameter to control this behavior.\n",
      "  _warn_prf(average, modifier, msg_start, len(result))\n"
     ]
    }
   ],
   "source": [
    "model.fit(X_train,y_train)\n",
    "y_pred_lr = model.predict(X_test)\n",
    "print(\"Predicted values:\")\n",
    "print(y_pred_lr)\n",
    "#dd = df_train['visitors'].head(32019)\n",
    "print ('Accuracy:', accuracy_score(y_train, y_pred_lr)*100)\n",
    "\n",
    "#print('Accuracy:', model.score(X_test, y_pred_lr)*100)\n",
    "print ('F1 score:', f1_score(y_train, y_pred_lr, average=\"weighted\"))\n",
    "print ('Recall:', recall_score(y_train, y_pred_lr, average=\"weighted\"))\n",
    "print ('Precision:', precision_score(y_train, y_pred_lr, average=\"weighted\"))"
   ]
  },
  {
   "cell_type": "code",
   "execution_count": 37,
   "id": "ff6d202f-fd50-42b2-9f59-1457c4c9c699",
   "metadata": {},
   "outputs": [
    {
     "name": "stdout",
     "output_type": "stream",
     "text": [
      "Training Error: 17074218.135994088\n",
      "Test Error: 0.0\n",
      "Variance: 5272.661971262578\n",
      "Bias: 17072404.926485162\n"
     ]
    },
    {
     "name": "stderr",
     "output_type": "stream",
     "text": [
      "/srv/conda/envs/notebook/lib/python3.7/site-packages/sklearn/linear_model/_logistic.py:818: ConvergenceWarning: lbfgs failed to converge (status=1):\n",
      "STOP: TOTAL NO. of ITERATIONS REACHED LIMIT.\n",
      "\n",
      "Increase the number of iterations (max_iter) or scale the data as shown in:\n",
      "    https://scikit-learn.org/stable/modules/preprocessing.html\n",
      "Please also refer to the documentation for alternative solver options:\n",
      "    https://scikit-learn.org/stable/modules/linear_model.html#logistic-regression\n",
      "  extra_warning_msg=_LOGISTIC_SOLVER_CONVERGENCE_MSG,\n"
     ]
    }
   ],
   "source": [
    "train_error, test_error = calc_metrics(X_train, y_train, X_test, y_pred_lr, model)\n",
    "#variance\n",
    "var = np.var(y_pred_lr)\n",
    "SSE = np.mean((np.mean(y_pred_lr) - y_train)** 2) # Where Y is your dependent variable. # SSE : Sum of squared errors.\n",
    "\n",
    "Bias = SSE - var\n",
    "print(\"Training Error:\",train_error)\n",
    "print(\"Test Error:\",test_error)\n",
    "print(\"Variance:\",var)\n",
    "print(\"Bias:\",Bias)"
   ]
  },
  {
   "cell_type": "code",
   "execution_count": 38,
   "id": "026e91e2-5d8d-417b-a6d5-3961b92554d4",
   "metadata": {},
   "outputs": [],
   "source": [
    "x_score = model.predict_proba(X_test)[:,1]\n",
    "#fpr, tpr, threshold = roc_curve\n",
    "(y_train, x_score)\n",
    "y_train = y_train.astype(float)\n",
    "xtth = pd.DataFrame(x_score)\n",
    "n_est = [1,5,10,15,20]"
   ]
  },
  {
   "cell_type": "code",
   "execution_count": 39,
   "id": "04bc1cca-66e6-4f10-9e9d-f2e9ff6cec42",
   "metadata": {},
   "outputs": [
    {
     "name": "stderr",
     "output_type": "stream",
     "text": [
      "/srv/conda/envs/notebook/lib/python3.7/site-packages/sklearn/model_selection/_split.py:680: UserWarning: The least populated class in y has only 1 members, which is less than n_splits=5.\n",
      "  UserWarning,\n"
     ]
    }
   ],
   "source": [
    "#y_train\n",
    "fpr, tpr, threshold = roc_curve(X_test, x_score,pos_label=1)\n",
    "train_score, test_score = validation_curve(\n",
    "    clf,\n",
    "    X_train,\n",
    "    y_train,\n",
    "    param_name=\"max_depth\",\n",
    "    param_range=n_est, cv=5,\n",
    "    scoring=\"accuracy\",\n",
    "    n_jobs=2,\n",
    ")"
   ]
  },
  {
   "cell_type": "code",
   "execution_count": 40,
   "id": "d19f1926-776c-4712-8e49-74da0c96341c",
   "metadata": {},
   "outputs": [],
   "source": [
    "# Calculating mean and standard deviation of training score\n",
    "mean_train_score = np.mean(train_score, axis = 1)\n",
    "std_train_score = np.std(train_score, axis = 1)\n",
    " \n",
    "# Calculating mean and standard deviation of testing score\n",
    "mean_test_score = np.mean(test_score, axis = 1)\n",
    "std_test_score = np.std(test_score, axis = 1)"
   ]
  },
  {
   "cell_type": "code",
   "execution_count": 41,
   "id": "a6f44de9-779a-4834-bcc1-352702445256",
   "metadata": {},
   "outputs": [
    {
     "data": {
      "image/png": "[encoded data removed]",
      "text/plain": [
       "<Figure size 432x288 with 1 Axes>"
      ]
     },
     "metadata": {
      "needs_background": "light"
     },
     "output_type": "display_data"
    }
   ],
   "source": [
    "# Plot mean accuracy scores for training and testing scores\n",
    "plt.plot(n_est, mean_train_score,\n",
    "     label = \"Training Score\", color = 'b')\n",
    "plt.plot(n_est, mean_test_score,\n",
    "   label = \"Cross Validation Score\", color = 'g')\n",
    " \n",
    "# Creating the plot\n",
    "plt.title(\"Validation Curve with LR Classifier\")\n",
    "plt.xlabel(\"Number of Estimators\")\n",
    "plt.xticks([1,2,3,4,5,6,7,8,9,10,11,12,13,14,15,16,17,18,19,20])\n",
    "plt.ylabel(\"Accuracy\")\n",
    "plt.tight_layout()\n",
    "plt.legend(loc = 'best')\n",
    "plt.grid()\n",
    "plt.show()"
   ]
  },
  {
   "cell_type": "code",
   "execution_count": 42,
   "id": "5b3a53ec-deed-48e6-8385-5b5ef058cfd3",
   "metadata": {},
   "outputs": [
    {
     "data": {
      "image/png": "[encoded data removed]",
      "text/plain": [
       "<Figure size 540x540 with 1 Axes>"
      ]
     },
     "metadata": {
      "needs_background": "light"
     },
     "output_type": "display_data"
    }
   ],
   "source": [
    "# calculate the fpr and tpr for all thresholds of the classification\n",
    "probs = model.predict_proba(X_test)\n",
    "preds = probs[:,1]\n",
    "fpr, tpr, threshold = metrics.roc_curve(X_test, preds,pos_label=1)\n",
    "roc_auc = metrics.auc(fpr, tpr)\n",
    "fig, ax = plt.subplots(figsize=(7.5, 7.5))\n",
    "plt.title('Receiver Operating Characteristic')\n",
    "plt.plot(fpr, tpr, 'b', label='ROC Curve (AUC = %0.2f)' % (roc_auc))\n",
    "plt.plot([0, 1], [0, 1],linestyle='--', color='red',label='LR Classifier')\n",
    "plt.plot([0, 0, 1], [0, 1, 1], linestyle=':', color='green', label='Perfect Classifier')\n",
    "#plt.xlim([1,20])\n",
    "#plt.ylim([1, 20])\n",
    "plt.ylabel('True Positive Rate')\n",
    "plt.xlabel('False Positive Rate')\n",
    "plt.legend(loc = 'lower right')\n",
    "plt.show()"
   ]
  },
  {
   "cell_type": "code",
   "execution_count": null,
   "id": "5658ee8a-f66e-476a-9537-635805434e60",
   "metadata": {},
   "outputs": [],
   "source": []
  }
 ],
 "metadata": {
  "kernelspec": {
   "display_name": "Python 3 (ipykernel)",
   "language": "python",
   "name": "python3"
  },
  "language_info": {
   "codemirror_mode": {
    "name": "ipython",
    "version": 3
   },
   "file_extension": ".py",
   "mimetype": "text/x-python",
   "name": "python",
   "nbconvert_exporter": "python",
   "pygments_lexer": "ipython3",
   "version": "3.7.12"
  }
 },
 "nbformat": 4,
 "nbformat_minor": 5
}
